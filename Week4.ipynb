{
 "cells": [
  {
   "cell_type": "markdown",
   "metadata": {},
   "source": [
    "\n",
    "# IBM Data Science Capstone Project <br> Determining Coffee-Shop Competitor in York\n",
    "by Supat T.\n",
    "### Introduction/Business Problem \n",
    "In business, competitors are the most important factor in business planning. The difficulty is to identify competitors in business because we cannot know who will be the competitors that influence our business.\n",
    "Therefore,the more competitor can be identified well, the greater will be business plan or strategic plann practical possibilities.\n",
    "\n",
    "The goal of this project is to determine the coffee-shop competitor in York that will allow businesses to plan their business such as store planning, competitor analysis.By using clustering to identify the coffee shop segment.\n",
    "\n",
    "### Data\n",
    "I will use information from online and four fight qare with details as follows : \n",
    "\n",
    "   <strong>(1)  Postal Codes in Canada : </strong>  Scraping from the Wikipedia. <br>\n",
    "    (https://en.wikipedia.org/w/index.php?title=List_of_postal_codes_of_Canada:_M&oldid=1011037969)\n",
    "    \n",
    "   <strong>(2) Geographical Coordinates: </strong>  CVS file which consist latitude and longitude of the neighborhoods in Canada.<br>\n",
    "   (http://cocl.us/Geospatial_data)\n",
    "    \n",
    "   <strong>(3) Foursqaure for Fetching Details of the venue : </strong> API Foursqaure that contain :<br>\n",
    "           - Name of the venue. <br>\n",
    "           - Venue category type as defined by the API. <br>\n",
    "           - Latitude value of the venue. <br>\n",
    "           - Longitude value of the venue. <br>\n",
    "   (https://developer.foursquare.com/)"
   ]
  },
  {
   "cell_type": "code",
   "execution_count": null,
   "metadata": {},
   "outputs": [],
   "source": []
  }
 ],
 "metadata": {
  "kernelspec": {
   "display_name": "Python 3",
   "language": "python",
   "name": "python3"
  },
  "language_info": {
   "codemirror_mode": {
    "name": "ipython",
    "version": 3
   },
   "file_extension": ".py",
   "mimetype": "text/x-python",
   "name": "python",
   "nbconvert_exporter": "python",
   "pygments_lexer": "ipython3",
   "version": "3.8.5"
  }
 },
 "nbformat": 4,
 "nbformat_minor": 4
}
